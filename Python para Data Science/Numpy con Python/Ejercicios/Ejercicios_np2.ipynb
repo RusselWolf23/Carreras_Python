{
 "cells": [
  {
   "cell_type": "markdown",
   "metadata": {},
   "source": [
    "## Ejercicios de Numpy - parte 2"
   ]
  },
  {
   "cell_type": "code",
   "execution_count": 1,
   "metadata": {},
   "outputs": [],
   "source": [
    "import numpy as np"
   ]
  },
  {
   "cell_type": "markdown",
   "metadata": {},
   "source": [
    "## Ejercicio 1\n",
    "Genera un array que contenga 25 elementos entre 0 y 99 siguiendo una distribución lineal. Luego, transforma ese array en una matriz de 5 x 5. ¿Cuál es la diagonal de la matriz? ¿Y la diagonal justo superior?"
   ]
  },
  {
   "cell_type": "code",
   "execution_count": 63,
   "metadata": {},
   "outputs": [
    {
     "data": {
      "text/plain": [
       "array([ 0.,  4.,  8., 12., 16., 20., 24., 28., 32., 36., 40., 44., 48.,\n",
       "       52., 56., 60., 64., 68., 72., 76., 80., 84., 88., 92., 96.])"
      ]
     },
     "execution_count": 63,
     "metadata": {},
     "output_type": "execute_result"
    }
   ],
   "source": [
    "a1=np.linspace(start=0, stop=100, num=25, endpoint=False)\n",
    "a1"
   ]
  },
  {
   "cell_type": "code",
   "execution_count": 64,
   "metadata": {},
   "outputs": [
    {
     "name": "stdout",
     "output_type": "stream",
     "text": [
      "[[ 0.  4.  8. 12. 16.]\n",
      " [20. 24. 28. 32. 36.]\n",
      " [40. 44. 48. 52. 56.]\n",
      " [60. 64. 68. 72. 76.]\n",
      " [80. 84. 88. 92. 96.]] (5, 5)\n"
     ]
    }
   ],
   "source": [
    "# Matriz 5x5\n",
    "a1=a1.reshape((5,5))\n",
    "print(a1, a1.shape)\n"
   ]
  },
  {
   "cell_type": "code",
   "execution_count": 65,
   "metadata": {},
   "outputs": [
    {
     "data": {
      "text/plain": [
       "array([ 0., 24., 48., 72., 96.])"
      ]
     },
     "execution_count": 65,
     "metadata": {},
     "output_type": "execute_result"
    }
   ],
   "source": [
    "# Diagonal\n",
    "np.diag(a1)"
   ]
  },
  {
   "cell_type": "code",
   "execution_count": 66,
   "metadata": {},
   "outputs": [
    {
     "data": {
      "text/plain": [
       "array([ 4., 28., 52., 76.])"
      ]
     },
     "execution_count": 66,
     "metadata": {},
     "output_type": "execute_result"
    }
   ],
   "source": [
    "# Diagonal superior\n",
    "np.diag(a1, 1)\n"
   ]
  },
  {
   "cell_type": "markdown",
   "metadata": {},
   "source": [
    "## Ejercicio 2\n",
    "\n",
    "Crea un array de 5 x 4 con el valor repetido 10. Une esa matriz a la matriz del ejercicio anterior para conseguir dos nuevas matrices, una de  5 x 9, y otra de 9 x 5.\n",
    "\n",
    "\n"
   ]
  },
  {
   "cell_type": "markdown",
   "metadata": {},
   "source": [
    "\n",
    "$m = \\begin{pmatrix}\n",
    "0 & 4 & 8 & 12 & 16 \\\\\n",
    "20 & 24 & 28 & 32 & 36 \\\\\n",
    "40 & 44 & 48 & 52 & 56 \\\\\n",
    "60 & 64 & 68 & 72 & 76 \\\\\n",
    "80 & 84 & 88 & 92 & 96\n",
    "\\end{pmatrix}$\n",
    "$m2 = \\begin{pmatrix}\n",
    "5 & 5 & 5 & 5 & 5 \\\\\n",
    "5 & 5 & 5 & 5 & 5 \\\\\n",
    "5 & 5 & 5 & 5 & 5 \\\\\n",
    "5 & 5 & 5 & 5 & 5 \\\\\n",
    "5 & 5 & 5 & 5 & 5\n",
    "\\end{pmatrix}$"
   ]
  },
  {
   "cell_type": "code",
   "execution_count": 67,
   "metadata": {},
   "outputs": [
    {
     "data": {
      "text/plain": [
       "array([[10, 10, 10, 10, 10],\n",
       "       [10, 10, 10, 10, 10],\n",
       "       [10, 10, 10, 10, 10],\n",
       "       [10, 10, 10, 10, 10]])"
      ]
     },
     "execution_count": 67,
     "metadata": {},
     "output_type": "execute_result"
    }
   ],
   "source": [
    "a2=np.full(shape=(4,5),fill_value=10)\n",
    "a2"
   ]
  },
  {
   "cell_type": "code",
   "execution_count": 68,
   "metadata": {},
   "outputs": [
    {
     "data": {
      "text/plain": [
       "array([[ 0.,  4.,  8., 12., 16.],\n",
       "       [20., 24., 28., 32., 36.],\n",
       "       [40., 44., 48., 52., 56.],\n",
       "       [60., 64., 68., 72., 76.],\n",
       "       [80., 84., 88., 92., 96.],\n",
       "       [10., 10., 10., 10., 10.],\n",
       "       [10., 10., 10., 10., 10.],\n",
       "       [10., 10., 10., 10., 10.],\n",
       "       [10., 10., 10., 10., 10.]])"
      ]
     },
     "execution_count": 68,
     "metadata": {},
     "output_type": "execute_result"
    }
   ],
   "source": [
    "# 9x5\n",
    "m=np.concatenate((a1,a2), axis=0)\n",
    "m"
   ]
  },
  {
   "cell_type": "code",
   "execution_count": 69,
   "metadata": {},
   "outputs": [
    {
     "data": {
      "text/plain": [
       "array([[ 0.,  4.,  8., 12., 16., 20., 24., 28., 32.],\n",
       "       [36., 40., 44., 48., 52., 56., 60., 64., 68.],\n",
       "       [72., 76., 80., 84., 88., 92., 96., 10., 10.],\n",
       "       [10., 10., 10., 10., 10., 10., 10., 10., 10.],\n",
       "       [10., 10., 10., 10., 10., 10., 10., 10., 10.]])"
      ]
     },
     "execution_count": 69,
     "metadata": {},
     "output_type": "execute_result"
    }
   ],
   "source": [
    "# 5x9\n",
    "m2=m.reshape((5,9))\n",
    "m2\n"
   ]
  },
  {
   "cell_type": "markdown",
   "metadata": {},
   "source": [
    "## Ejercicio 3\n",
    "\n",
    "Teniendo el array inicial que podéis ver justo abajo, debéis realizar las operaciones necesarias para obtener el array: \n",
    "    \n",
    "array(['Este', 'Es', 'Un', 'Curso', 'De', 'Openwebinars'], dtype='<U12')\n",
    "\n",
    "¿Qué elementos del array comienzan por 'E'?"
   ]
  },
  {
   "cell_type": "code",
   "execution_count": 121,
   "metadata": {},
   "outputs": [
    {
     "data": {
      "text/plain": [
       "array(['      este es un curso de openwebinars     '], dtype='<U43')"
      ]
     },
     "execution_count": 121,
     "metadata": {},
     "output_type": "execute_result"
    }
   ],
   "source": [
    "a3=np.array(['      este es un curso de openwebinars     '])\n",
    "a3"
   ]
  },
  {
   "cell_type": "code",
   "execution_count": 122,
   "metadata": {},
   "outputs": [
    {
     "data": {
      "text/plain": [
       "array(['este es un curso de openwebinars'], dtype='<U43')"
      ]
     },
     "execution_count": 122,
     "metadata": {},
     "output_type": "execute_result"
    }
   ],
   "source": [
    "a3=np.char.strip(a3)\n",
    "a3\n"
   ]
  },
  {
   "cell_type": "code",
   "execution_count": 123,
   "metadata": {},
   "outputs": [
    {
     "data": {
      "text/plain": [
       "array(['este', 'es', 'un', 'curso', 'de', 'openwebinars'], dtype='<U12')"
      ]
     },
     "execution_count": 123,
     "metadata": {},
     "output_type": "execute_result"
    }
   ],
   "source": [
    "a3=np.char.split(a3, sep=' ')\n",
    "a3=np.array(a3[0]) # Paca convertir el array de listas en un array normal\n",
    "a3"
   ]
  },
  {
   "cell_type": "code",
   "execution_count": 124,
   "metadata": {},
   "outputs": [
    {
     "data": {
      "text/plain": [
       "array(['Este', 'Es', 'Un', 'Curso', 'De', 'Openwebinars'], dtype='<U12')"
      ]
     },
     "execution_count": 124,
     "metadata": {},
     "output_type": "execute_result"
    }
   ],
   "source": [
    "a3=np.char.capitalize(a3)\n",
    "a3"
   ]
  },
  {
   "cell_type": "code",
   "execution_count": 125,
   "metadata": {},
   "outputs": [
    {
     "data": {
      "text/plain": [
       "array(['Este', 'Es'], dtype='<U12')"
      ]
     },
     "execution_count": 125,
     "metadata": {},
     "output_type": "execute_result"
    }
   ],
   "source": [
    "a3[np.char.startswith(a3, prefix='E')]"
   ]
  },
  {
   "cell_type": "markdown",
   "metadata": {},
   "source": [
    "## Ejercicio 4\n",
    "\n",
    "Considerando las matrices A y B. \n",
    "\n",
    "$A = \\begin{pmatrix}\n",
    "3 & 1 & 2 \\\\\n",
    "4 & 1 & 3 \\\\\n",
    "2 & 0 & 1\n",
    "\\end{pmatrix}$\n",
    "$B = \\begin{pmatrix}\n",
    "2 & 0 & 3 \\\\\n",
    "1 & 1 & 1 \\\\\n",
    "0 & 2 & 4\n",
    "\\end{pmatrix}$\n",
    "\n",
    "- Realiza la multiplicación matricial de AxB y BxA. ¿Son iguales?\n",
    "- Realiza la multiplicación de la matriz A x 2\n",
    "- ¿Cúanto es la multiplicación escalar de AxB? ¿y de BxA?"
   ]
  },
  {
   "cell_type": "code",
   "execution_count": 130,
   "metadata": {},
   "outputs": [
    {
     "name": "stdout",
     "output_type": "stream",
     "text": [
      "[[3 1 2]\n",
      " [4 1 3]\n",
      " [2 0 1]] \n",
      " \n",
      " [[2 0 3]\n",
      " [1 1 1]\n",
      " [0 2 4]]\n"
     ]
    }
   ],
   "source": [
    "m=np.array([[3,1,2],[4,1,3],[2,0,1]])\n",
    "m2=np.array([[2,0,3],[1,1,1],[0,2,4]])\n",
    "print(m, '\\n \\n', m2)"
   ]
  },
  {
   "cell_type": "code",
   "execution_count": 50,
   "metadata": {},
   "outputs": [
    {
     "data": {
      "text/plain": [
       "array([[ 7,  5, 18],\n",
       "       [ 9,  7, 25],\n",
       "       [ 4,  2, 10]])"
      ]
     },
     "execution_count": 50,
     "metadata": {},
     "output_type": "execute_result"
    }
   ],
   "source": [
    "# Multiplicación matricial\n",
    "np.dot(m,m2) "
   ]
  },
  {
   "cell_type": "code",
   "execution_count": 51,
   "metadata": {},
   "outputs": [
    {
     "data": {
      "text/plain": [
       "array([[12,  2,  7],\n",
       "       [ 9,  2,  6],\n",
       "       [16,  2, 10]])"
      ]
     },
     "execution_count": 51,
     "metadata": {},
     "output_type": "execute_result"
    }
   ],
   "source": [
    "np.dot(m2,m) "
   ]
  },
  {
   "cell_type": "code",
   "execution_count": 52,
   "metadata": {},
   "outputs": [
    {
     "data": {
      "text/plain": [
       "array([[6, 2, 4],\n",
       "       [8, 2, 6],\n",
       "       [4, 0, 2]])"
      ]
     },
     "execution_count": 52,
     "metadata": {},
     "output_type": "execute_result"
    }
   ],
   "source": [
    "# Multiplicar por 2\n",
    "np.dot(m,2)"
   ]
  },
  {
   "cell_type": "code",
   "execution_count": 54,
   "metadata": {},
   "outputs": [
    {
     "data": {
      "text/plain": [
       "24"
      ]
     },
     "execution_count": 54,
     "metadata": {},
     "output_type": "execute_result"
    }
   ],
   "source": [
    "# Producto escalar\n",
    "np.vdot(m, m2)"
   ]
  },
  {
   "cell_type": "code",
   "execution_count": 55,
   "metadata": {},
   "outputs": [
    {
     "data": {
      "text/plain": [
       "24"
      ]
     },
     "execution_count": 55,
     "metadata": {},
     "output_type": "execute_result"
    }
   ],
   "source": [
    "np.vdot(m2, m)\n"
   ]
  },
  {
   "cell_type": "markdown",
   "metadata": {},
   "source": [
    "## Ejercicio 5\n",
    "\n",
    "Usando la matriz A del ejercicio anterior, calcula:\n",
    "\n",
    "- A^3\n",
    "- El determinante de A\n",
    "- Resuelve la ecuación Ax = y, siendo ***y*** el array [3,2,5]"
   ]
  },
  {
   "cell_type": "code",
   "execution_count": 131,
   "metadata": {},
   "outputs": [
    {
     "data": {
      "text/plain": [
       "array([[ 89,  21,  57],\n",
       "       [114,  27,  73],\n",
       "       [ 42,  10,  27]])"
      ]
     },
     "execution_count": 131,
     "metadata": {},
     "output_type": "execute_result"
    }
   ],
   "source": [
    "# A^3\n",
    "np.linalg.matrix_power(m,3)"
   ]
  },
  {
   "cell_type": "code",
   "execution_count": 132,
   "metadata": {},
   "outputs": [
    {
     "data": {
      "text/plain": [
       "1.0"
      ]
     },
     "execution_count": 132,
     "metadata": {},
     "output_type": "execute_result"
    }
   ],
   "source": [
    "# Determinante de A\n",
    "np.linalg.det(m)"
   ]
  },
  {
   "cell_type": "code",
   "execution_count": 135,
   "metadata": {},
   "outputs": [
    {
     "data": {
      "text/plain": [
       "array([ 6., -1., -7.])"
      ]
     },
     "execution_count": 135,
     "metadata": {},
     "output_type": "execute_result"
    }
   ],
   "source": [
    "# Ecuación\n",
    "y=np.array([3,2,5])\n",
    "np.linalg.solve(m,y)"
   ]
  }
 ],
 "metadata": {
  "kernelspec": {
   "display_name": "Python 3",
   "language": "python",
   "name": "python3"
  },
  "language_info": {
   "codemirror_mode": {
    "name": "ipython",
    "version": 3
   },
   "file_extension": ".py",
   "mimetype": "text/x-python",
   "name": "python",
   "nbconvert_exporter": "python",
   "pygments_lexer": "ipython3",
   "version": "3.10.10"
  }
 },
 "nbformat": 4,
 "nbformat_minor": 2
}
